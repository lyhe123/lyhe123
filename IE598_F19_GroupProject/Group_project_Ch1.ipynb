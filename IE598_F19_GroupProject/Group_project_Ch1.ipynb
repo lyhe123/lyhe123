{
 "cells": [
  {
   "cell_type": "code",
   "execution_count": 1,
   "metadata": {},
   "outputs": [],
   "source": [
    "import pandas as pd \n",
    "import numpy as np \n",
    "from sklearn.model_selection import train_test_split\n",
    "from sklearn.ensemble import RandomForestClassifier\n",
    "import seaborn as sns\n",
    "import matplotlib.pyplot as plt"
   ]
  },
  {
   "cell_type": "code",
   "execution_count": 2,
   "metadata": {},
   "outputs": [
    {
     "data": {
      "text/html": [
       "<div>\n",
       "<style scoped>\n",
       "    .dataframe tbody tr th:only-of-type {\n",
       "        vertical-align: middle;\n",
       "    }\n",
       "\n",
       "    .dataframe tbody tr th {\n",
       "        vertical-align: top;\n",
       "    }\n",
       "\n",
       "    .dataframe thead th {\n",
       "        text-align: right;\n",
       "    }\n",
       "</style>\n",
       "<table border=\"1\" class=\"dataframe\">\n",
       "  <thead>\n",
       "    <tr style=\"text-align: right;\">\n",
       "      <th></th>\n",
       "      <th>Sales/Revenues</th>\n",
       "      <th>Gross Margin</th>\n",
       "      <th>EBITDA</th>\n",
       "      <th>EBITDA Margin</th>\n",
       "      <th>Net Income Before Extras</th>\n",
       "      <th>Total Debt</th>\n",
       "      <th>Net Debt</th>\n",
       "      <th>LT Debt</th>\n",
       "      <th>ST Debt</th>\n",
       "      <th>Cash</th>\n",
       "      <th>...</th>\n",
       "      <th>Interest Coverage</th>\n",
       "      <th>Total Liquidity</th>\n",
       "      <th>Current Liquidity</th>\n",
       "      <th>Current Liabilities</th>\n",
       "      <th>EPS Before Extras</th>\n",
       "      <th>PE</th>\n",
       "      <th>ROA</th>\n",
       "      <th>ROE</th>\n",
       "      <th>InvGrd</th>\n",
       "      <th>Rating</th>\n",
       "    </tr>\n",
       "  </thead>\n",
       "  <tbody>\n",
       "    <tr>\n",
       "      <td>0</td>\n",
       "      <td>-0.005496</td>\n",
       "      <td>0.030763</td>\n",
       "      <td>0.018885</td>\n",
       "      <td>0.024515</td>\n",
       "      <td>0.146849</td>\n",
       "      <td>-0.029710</td>\n",
       "      <td>-0.019296</td>\n",
       "      <td>-0.042648</td>\n",
       "      <td>0.049875</td>\n",
       "      <td>-0.133716</td>\n",
       "      <td>...</td>\n",
       "      <td>0.136748</td>\n",
       "      <td>0.392143</td>\n",
       "      <td>-0.184887</td>\n",
       "      <td>0.062781</td>\n",
       "      <td>0.148305</td>\n",
       "      <td>0.100409</td>\n",
       "      <td>0.163266</td>\n",
       "      <td>0.102521</td>\n",
       "      <td>1</td>\n",
       "      <td>A1</td>\n",
       "    </tr>\n",
       "    <tr>\n",
       "      <td>1</td>\n",
       "      <td>-0.005496</td>\n",
       "      <td>0.030763</td>\n",
       "      <td>0.088716</td>\n",
       "      <td>0.094733</td>\n",
       "      <td>0.146849</td>\n",
       "      <td>-0.029710</td>\n",
       "      <td>-0.019296</td>\n",
       "      <td>-0.042648</td>\n",
       "      <td>0.049875</td>\n",
       "      <td>-0.133716</td>\n",
       "      <td>...</td>\n",
       "      <td>0.214657</td>\n",
       "      <td>0.392143</td>\n",
       "      <td>-0.184887</td>\n",
       "      <td>0.062781</td>\n",
       "      <td>0.148305</td>\n",
       "      <td>-0.089598</td>\n",
       "      <td>0.163266</td>\n",
       "      <td>0.102521</td>\n",
       "      <td>1</td>\n",
       "      <td>A1</td>\n",
       "    </tr>\n",
       "    <tr>\n",
       "      <td>2</td>\n",
       "      <td>-0.007045</td>\n",
       "      <td>0.023159</td>\n",
       "      <td>0.088716</td>\n",
       "      <td>0.096440</td>\n",
       "      <td>0.108590</td>\n",
       "      <td>0.039410</td>\n",
       "      <td>0.034268</td>\n",
       "      <td>0.009059</td>\n",
       "      <td>0.250371</td>\n",
       "      <td>0.101315</td>\n",
       "      <td>...</td>\n",
       "      <td>0.205290</td>\n",
       "      <td>0.483257</td>\n",
       "      <td>-0.017877</td>\n",
       "      <td>0.121357</td>\n",
       "      <td>0.110656</td>\n",
       "      <td>-0.045142</td>\n",
       "      <td>0.105711</td>\n",
       "      <td>0.103378</td>\n",
       "      <td>1</td>\n",
       "      <td>A1</td>\n",
       "    </tr>\n",
       "    <tr>\n",
       "      <td>3</td>\n",
       "      <td>-0.009396</td>\n",
       "      <td>0.028400</td>\n",
       "      <td>0.088716</td>\n",
       "      <td>0.099046</td>\n",
       "      <td>0.146137</td>\n",
       "      <td>0.030071</td>\n",
       "      <td>0.036938</td>\n",
       "      <td>-0.016964</td>\n",
       "      <td>0.356994</td>\n",
       "      <td>-0.052606</td>\n",
       "      <td>...</td>\n",
       "      <td>0.232991</td>\n",
       "      <td>0.996955</td>\n",
       "      <td>-0.122017</td>\n",
       "      <td>0.079051</td>\n",
       "      <td>0.151639</td>\n",
       "      <td>-0.008231</td>\n",
       "      <td>0.162421</td>\n",
       "      <td>0.132295</td>\n",
       "      <td>1</td>\n",
       "      <td>A1</td>\n",
       "    </tr>\n",
       "    <tr>\n",
       "      <td>4</td>\n",
       "      <td>-0.009009</td>\n",
       "      <td>0.027714</td>\n",
       "      <td>0.088716</td>\n",
       "      <td>0.098611</td>\n",
       "      <td>0.123500</td>\n",
       "      <td>0.024224</td>\n",
       "      <td>0.034445</td>\n",
       "      <td>-0.034132</td>\n",
       "      <td>0.461894</td>\n",
       "      <td>-0.090869</td>\n",
       "      <td>...</td>\n",
       "      <td>0.172906</td>\n",
       "      <td>1.711426</td>\n",
       "      <td>-0.161561</td>\n",
       "      <td>0.084319</td>\n",
       "      <td>0.130435</td>\n",
       "      <td>0.015528</td>\n",
       "      <td>0.156427</td>\n",
       "      <td>0.225144</td>\n",
       "      <td>1</td>\n",
       "      <td>A1</td>\n",
       "    </tr>\n",
       "  </tbody>\n",
       "</table>\n",
       "<p>5 rows × 28 columns</p>\n",
       "</div>"
      ],
      "text/plain": [
       "   Sales/Revenues  Gross Margin    EBITDA  EBITDA Margin  \\\n",
       "0       -0.005496      0.030763  0.018885       0.024515   \n",
       "1       -0.005496      0.030763  0.088716       0.094733   \n",
       "2       -0.007045      0.023159  0.088716       0.096440   \n",
       "3       -0.009396      0.028400  0.088716       0.099046   \n",
       "4       -0.009009      0.027714  0.088716       0.098611   \n",
       "\n",
       "   Net Income Before Extras  Total Debt  Net Debt   LT Debt   ST Debt  \\\n",
       "0                  0.146849   -0.029710 -0.019296 -0.042648  0.049875   \n",
       "1                  0.146849   -0.029710 -0.019296 -0.042648  0.049875   \n",
       "2                  0.108590    0.039410  0.034268  0.009059  0.250371   \n",
       "3                  0.146137    0.030071  0.036938 -0.016964  0.356994   \n",
       "4                  0.123500    0.024224  0.034445 -0.034132  0.461894   \n",
       "\n",
       "       Cash  ...  Interest Coverage  Total Liquidity  Current Liquidity  \\\n",
       "0 -0.133716  ...           0.136748         0.392143          -0.184887   \n",
       "1 -0.133716  ...           0.214657         0.392143          -0.184887   \n",
       "2  0.101315  ...           0.205290         0.483257          -0.017877   \n",
       "3 -0.052606  ...           0.232991         0.996955          -0.122017   \n",
       "4 -0.090869  ...           0.172906         1.711426          -0.161561   \n",
       "\n",
       "   Current Liabilities  EPS Before Extras        PE       ROA       ROE  \\\n",
       "0             0.062781           0.148305  0.100409  0.163266  0.102521   \n",
       "1             0.062781           0.148305 -0.089598  0.163266  0.102521   \n",
       "2             0.121357           0.110656 -0.045142  0.105711  0.103378   \n",
       "3             0.079051           0.151639 -0.008231  0.162421  0.132295   \n",
       "4             0.084319           0.130435  0.015528  0.156427  0.225144   \n",
       "\n",
       "   InvGrd  Rating  \n",
       "0       1      A1  \n",
       "1       1      A1  \n",
       "2       1      A1  \n",
       "3       1      A1  \n",
       "4       1      A1  \n",
       "\n",
       "[5 rows x 28 columns]"
      ]
     },
     "execution_count": 2,
     "metadata": {},
     "output_type": "execute_result"
    }
   ],
   "source": [
    "#import file as a dataframe, show first 5 cols\n",
    "df = pd.read_csv(\"C:\\\\Users\\lyhe\\Downloads\\MLF_GP1_CreditScore.csv\")\n",
    "df.head()"
   ]
  },
  {
   "cell_type": "code",
   "execution_count": 3,
   "metadata": {},
   "outputs": [
    {
     "data": {
      "text/html": [
       "<div>\n",
       "<style scoped>\n",
       "    .dataframe tbody tr th:only-of-type {\n",
       "        vertical-align: middle;\n",
       "    }\n",
       "\n",
       "    .dataframe tbody tr th {\n",
       "        vertical-align: top;\n",
       "    }\n",
       "\n",
       "    .dataframe thead th {\n",
       "        text-align: right;\n",
       "    }\n",
       "</style>\n",
       "<table border=\"1\" class=\"dataframe\">\n",
       "  <thead>\n",
       "    <tr style=\"text-align: right;\">\n",
       "      <th></th>\n",
       "      <th>Sales/Revenues</th>\n",
       "      <th>Gross Margin</th>\n",
       "      <th>EBITDA</th>\n",
       "      <th>EBITDA Margin</th>\n",
       "      <th>Net Income Before Extras</th>\n",
       "      <th>Total Debt</th>\n",
       "      <th>Net Debt</th>\n",
       "      <th>LT Debt</th>\n",
       "      <th>ST Debt</th>\n",
       "      <th>Cash</th>\n",
       "      <th>...</th>\n",
       "      <th>CFO</th>\n",
       "      <th>Interest Coverage</th>\n",
       "      <th>Total Liquidity</th>\n",
       "      <th>Current Liquidity</th>\n",
       "      <th>Current Liabilities</th>\n",
       "      <th>EPS Before Extras</th>\n",
       "      <th>PE</th>\n",
       "      <th>ROA</th>\n",
       "      <th>ROE</th>\n",
       "      <th>InvGrd</th>\n",
       "    </tr>\n",
       "  </thead>\n",
       "  <tbody>\n",
       "    <tr>\n",
       "      <td>count</td>\n",
       "      <td>1700.000000</td>\n",
       "      <td>1700.000000</td>\n",
       "      <td>1700.000000</td>\n",
       "      <td>1700.000000</td>\n",
       "      <td>1700.000000</td>\n",
       "      <td>1700.000000</td>\n",
       "      <td>1700.000000</td>\n",
       "      <td>1700.000000</td>\n",
       "      <td>1700.000000</td>\n",
       "      <td>1700.000000</td>\n",
       "      <td>...</td>\n",
       "      <td>1700.000000</td>\n",
       "      <td>1700.000000</td>\n",
       "      <td>1700.000000</td>\n",
       "      <td>1700.000000</td>\n",
       "      <td>1700.000000</td>\n",
       "      <td>1700.000000</td>\n",
       "      <td>1700.000000</td>\n",
       "      <td>1700.000000</td>\n",
       "      <td>1700.000000</td>\n",
       "      <td>1700.000000</td>\n",
       "    </tr>\n",
       "    <tr>\n",
       "      <td>mean</td>\n",
       "      <td>0.050378</td>\n",
       "      <td>0.026007</td>\n",
       "      <td>0.068718</td>\n",
       "      <td>0.021074</td>\n",
       "      <td>0.123026</td>\n",
       "      <td>0.822405</td>\n",
       "      <td>-0.419810</td>\n",
       "      <td>1.255168</td>\n",
       "      <td>3.142797</td>\n",
       "      <td>0.466620</td>\n",
       "      <td>...</td>\n",
       "      <td>-0.189317</td>\n",
       "      <td>0.298785</td>\n",
       "      <td>-0.855714</td>\n",
       "      <td>0.436002</td>\n",
       "      <td>0.072802</td>\n",
       "      <td>0.032196</td>\n",
       "      <td>0.497705</td>\n",
       "      <td>0.019394</td>\n",
       "      <td>-0.217604</td>\n",
       "      <td>0.757059</td>\n",
       "    </tr>\n",
       "    <tr>\n",
       "      <td>std</td>\n",
       "      <td>0.161910</td>\n",
       "      <td>0.273768</td>\n",
       "      <td>0.237365</td>\n",
       "      <td>0.189025</td>\n",
       "      <td>14.475689</td>\n",
       "      <td>13.317075</td>\n",
       "      <td>28.385702</td>\n",
       "      <td>16.224453</td>\n",
       "      <td>51.986550</td>\n",
       "      <td>1.859494</td>\n",
       "      <td>...</td>\n",
       "      <td>5.668669</td>\n",
       "      <td>5.265291</td>\n",
       "      <td>22.926862</td>\n",
       "      <td>1.904282</td>\n",
       "      <td>0.266471</td>\n",
       "      <td>6.151994</td>\n",
       "      <td>12.102502</td>\n",
       "      <td>14.594193</td>\n",
       "      <td>15.389000</td>\n",
       "      <td>0.428986</td>\n",
       "    </tr>\n",
       "    <tr>\n",
       "      <td>min</td>\n",
       "      <td>-0.661715</td>\n",
       "      <td>-0.794722</td>\n",
       "      <td>-0.782254</td>\n",
       "      <td>-0.805153</td>\n",
       "      <td>-289.000000</td>\n",
       "      <td>-0.903014</td>\n",
       "      <td>-493.305578</td>\n",
       "      <td>-0.921515</td>\n",
       "      <td>-0.997692</td>\n",
       "      <td>-0.990982</td>\n",
       "      <td>...</td>\n",
       "      <td>-161.609425</td>\n",
       "      <td>-0.991976</td>\n",
       "      <td>-502.000000</td>\n",
       "      <td>-0.994141</td>\n",
       "      <td>-0.684678</td>\n",
       "      <td>-96.250000</td>\n",
       "      <td>-59.795133</td>\n",
       "      <td>-305.462167</td>\n",
       "      <td>-373.837267</td>\n",
       "      <td>0.000000</td>\n",
       "    </tr>\n",
       "    <tr>\n",
       "      <td>25%</td>\n",
       "      <td>-0.005693</td>\n",
       "      <td>-0.020028</td>\n",
       "      <td>-0.022640</td>\n",
       "      <td>-0.042771</td>\n",
       "      <td>-0.158478</td>\n",
       "      <td>-0.076316</td>\n",
       "      <td>-0.120725</td>\n",
       "      <td>-0.094767</td>\n",
       "      <td>-0.337959</td>\n",
       "      <td>-0.195117</td>\n",
       "      <td>...</td>\n",
       "      <td>-0.115159</td>\n",
       "      <td>-0.096996</td>\n",
       "      <td>-0.857013</td>\n",
       "      <td>-0.227327</td>\n",
       "      <td>-0.072734</td>\n",
       "      <td>-0.152894</td>\n",
       "      <td>-0.293521</td>\n",
       "      <td>-0.208483</td>\n",
       "      <td>-0.233955</td>\n",
       "      <td>1.000000</td>\n",
       "    </tr>\n",
       "    <tr>\n",
       "      <td>50%</td>\n",
       "      <td>0.034000</td>\n",
       "      <td>0.003403</td>\n",
       "      <td>0.049482</td>\n",
       "      <td>0.011134</td>\n",
       "      <td>0.056627</td>\n",
       "      <td>0.005886</td>\n",
       "      <td>-0.003060</td>\n",
       "      <td>-0.002078</td>\n",
       "      <td>0.043092</td>\n",
       "      <td>0.075820</td>\n",
       "      <td>...</td>\n",
       "      <td>0.046983</td>\n",
       "      <td>0.043216</td>\n",
       "      <td>-0.229098</td>\n",
       "      <td>0.040446</td>\n",
       "      <td>0.041785</td>\n",
       "      <td>0.066027</td>\n",
       "      <td>-0.040405</td>\n",
       "      <td>-0.009403</td>\n",
       "      <td>-0.020392</td>\n",
       "      <td>1.000000</td>\n",
       "    </tr>\n",
       "    <tr>\n",
       "      <td>75%</td>\n",
       "      <td>0.083004</td>\n",
       "      <td>0.025595</td>\n",
       "      <td>0.124533</td>\n",
       "      <td>0.060566</td>\n",
       "      <td>0.222219</td>\n",
       "      <td>0.136449</td>\n",
       "      <td>0.160251</td>\n",
       "      <td>0.174735</td>\n",
       "      <td>0.649475</td>\n",
       "      <td>0.483113</td>\n",
       "      <td>...</td>\n",
       "      <td>0.216432</td>\n",
       "      <td>0.177340</td>\n",
       "      <td>0.512778</td>\n",
       "      <td>0.416067</td>\n",
       "      <td>0.161215</td>\n",
       "      <td>0.236046</td>\n",
       "      <td>0.168897</td>\n",
       "      <td>0.156136</td>\n",
       "      <td>0.201596</td>\n",
       "      <td>1.000000</td>\n",
       "    </tr>\n",
       "    <tr>\n",
       "      <td>max</td>\n",
       "      <td>2.277229</td>\n",
       "      <td>3.202713</td>\n",
       "      <td>3.542425</td>\n",
       "      <td>4.141182</td>\n",
       "      <td>478.280075</td>\n",
       "      <td>281.604237</td>\n",
       "      <td>865.194595</td>\n",
       "      <td>289.388178</td>\n",
       "      <td>2038.000000</td>\n",
       "      <td>36.980037</td>\n",
       "      <td>...</td>\n",
       "      <td>13.005788</td>\n",
       "      <td>182.131887</td>\n",
       "      <td>280.138728</td>\n",
       "      <td>34.372455</td>\n",
       "      <td>4.194381</td>\n",
       "      <td>187.000000</td>\n",
       "      <td>381.243282</td>\n",
       "      <td>474.847172</td>\n",
       "      <td>343.145356</td>\n",
       "      <td>1.000000</td>\n",
       "    </tr>\n",
       "  </tbody>\n",
       "</table>\n",
       "<p>8 rows × 27 columns</p>\n",
       "</div>"
      ],
      "text/plain": [
       "       Sales/Revenues  Gross Margin       EBITDA  EBITDA Margin  \\\n",
       "count     1700.000000   1700.000000  1700.000000    1700.000000   \n",
       "mean         0.050378      0.026007     0.068718       0.021074   \n",
       "std          0.161910      0.273768     0.237365       0.189025   \n",
       "min         -0.661715     -0.794722    -0.782254      -0.805153   \n",
       "25%         -0.005693     -0.020028    -0.022640      -0.042771   \n",
       "50%          0.034000      0.003403     0.049482       0.011134   \n",
       "75%          0.083004      0.025595     0.124533       0.060566   \n",
       "max          2.277229      3.202713     3.542425       4.141182   \n",
       "\n",
       "       Net Income Before Extras   Total Debt     Net Debt      LT Debt  \\\n",
       "count               1700.000000  1700.000000  1700.000000  1700.000000   \n",
       "mean                   0.123026     0.822405    -0.419810     1.255168   \n",
       "std                   14.475689    13.317075    28.385702    16.224453   \n",
       "min                 -289.000000    -0.903014  -493.305578    -0.921515   \n",
       "25%                   -0.158478    -0.076316    -0.120725    -0.094767   \n",
       "50%                    0.056627     0.005886    -0.003060    -0.002078   \n",
       "75%                    0.222219     0.136449     0.160251     0.174735   \n",
       "max                  478.280075   281.604237   865.194595   289.388178   \n",
       "\n",
       "           ST Debt         Cash  ...          CFO  Interest Coverage  \\\n",
       "count  1700.000000  1700.000000  ...  1700.000000        1700.000000   \n",
       "mean      3.142797     0.466620  ...    -0.189317           0.298785   \n",
       "std      51.986550     1.859494  ...     5.668669           5.265291   \n",
       "min      -0.997692    -0.990982  ...  -161.609425          -0.991976   \n",
       "25%      -0.337959    -0.195117  ...    -0.115159          -0.096996   \n",
       "50%       0.043092     0.075820  ...     0.046983           0.043216   \n",
       "75%       0.649475     0.483113  ...     0.216432           0.177340   \n",
       "max    2038.000000    36.980037  ...    13.005788         182.131887   \n",
       "\n",
       "       Total Liquidity  Current Liquidity  Current Liabilities  \\\n",
       "count      1700.000000        1700.000000          1700.000000   \n",
       "mean         -0.855714           0.436002             0.072802   \n",
       "std          22.926862           1.904282             0.266471   \n",
       "min        -502.000000          -0.994141            -0.684678   \n",
       "25%          -0.857013          -0.227327            -0.072734   \n",
       "50%          -0.229098           0.040446             0.041785   \n",
       "75%           0.512778           0.416067             0.161215   \n",
       "max         280.138728          34.372455             4.194381   \n",
       "\n",
       "       EPS Before Extras           PE          ROA          ROE       InvGrd  \n",
       "count        1700.000000  1700.000000  1700.000000  1700.000000  1700.000000  \n",
       "mean            0.032196     0.497705     0.019394    -0.217604     0.757059  \n",
       "std             6.151994    12.102502    14.594193    15.389000     0.428986  \n",
       "min           -96.250000   -59.795133  -305.462167  -373.837267     0.000000  \n",
       "25%            -0.152894    -0.293521    -0.208483    -0.233955     1.000000  \n",
       "50%             0.066027    -0.040405    -0.009403    -0.020392     1.000000  \n",
       "75%             0.236046     0.168897     0.156136     0.201596     1.000000  \n",
       "max           187.000000   381.243282   474.847172   343.145356     1.000000  \n",
       "\n",
       "[8 rows x 27 columns]"
      ]
     },
     "execution_count": 3,
     "metadata": {},
     "output_type": "execute_result"
    }
   ],
   "source": [
    "df.describe()"
   ]
  },
  {
   "cell_type": "code",
   "execution_count": 4,
   "metadata": {},
   "outputs": [
    {
     "name": "stdout",
     "output_type": "stream",
     "text": [
      "                          Sales/Revenues  Gross Margin    EBITDA  \\\n",
      "Sales/Revenues                  1.000000     -0.026318  0.500178   \n",
      "Gross Margin                   -0.026318      1.000000  0.114092   \n",
      "EBITDA                          0.500178      0.114092  1.000000   \n",
      "EBITDA Margin                  -0.124079      0.147886  0.757142   \n",
      "Net Income Before Extras        0.012024     -0.001061  0.012565   \n",
      "Total Debt                      0.068938     -0.002665  0.008949   \n",
      "Net Debt                        0.175741      0.004266  0.119251   \n",
      "LT Debt                         0.048960     -0.003149 -0.000665   \n",
      "ST Debt                         0.014987     -0.005417  0.004844   \n",
      "Cash                           -0.008088     -0.024540 -0.030773   \n",
      "Free Cash Flow                  0.035716      0.001920  0.009102   \n",
      "Total Debt/EBITDA               0.056092     -0.005690 -0.009527   \n",
      "Net Debt/EBITDA                 0.110201     -0.000236  0.074284   \n",
      "Total MV                        0.123111      0.024361  0.256941   \n",
      "Total Debt/MV                   0.062128     -0.003954  0.002857   \n",
      "Net Debt/MV                     0.176797      0.009945  0.123084   \n",
      "CFO/Debt                        0.016833     -0.055521 -0.054541   \n",
      "CFO                             0.034069     -0.055569 -0.041064   \n",
      "Interest Coverage               0.032716     -0.002079  0.028118   \n",
      "Total Liquidity                 0.035747     -0.011190 -0.008799   \n",
      "Current Liquidity              -0.081346     -0.022793 -0.054680   \n",
      "Current Liabilities             0.553807      0.051386  0.207526   \n",
      "EPS Before Extras               0.034722      0.000857  0.042191   \n",
      "PE                             -0.014842      0.029146  0.040732   \n",
      "ROA                             0.007251     -0.001583  0.007913   \n",
      "ROE                            -0.000206      0.000182 -0.005701   \n",
      "\n",
      "                          EBITDA Margin  Net Income Before Extras  Total Debt  \\\n",
      "Sales/Revenues                -0.124079                  0.012024    0.068938   \n",
      "Gross Margin                   0.147886                 -0.001061   -0.002665   \n",
      "EBITDA                         0.757142                  0.012565    0.008949   \n",
      "EBITDA Margin                  1.000000                  0.003331   -0.039804   \n",
      "Net Income Before Extras       0.003331                  1.000000   -0.001065   \n",
      "Total Debt                    -0.039804                 -0.001065    1.000000   \n",
      "Net Debt                       0.000336                  0.000867   -0.022209   \n",
      "LT Debt                       -0.037009                 -0.001162    0.833567   \n",
      "ST Debt                       -0.006310                 -0.000221    0.118240   \n",
      "Cash                          -0.023997                 -0.006703   -0.030002   \n",
      "Free Cash Flow                -0.021301                  0.023523    0.002539   \n",
      "Total Debt/EBITDA             -0.051062                 -0.001490    0.999328   \n",
      "Net Debt/EBITDA               -0.000145                  0.000312   -0.035136   \n",
      "Total MV                       0.209314                 -0.005511   -0.056449   \n",
      "Total Debt/MV                 -0.041728                 -0.001252    0.964306   \n",
      "Net Debt/MV                    0.004226                  0.000701   -0.022305   \n",
      "CFO/Debt                      -0.076554                  0.002084   -0.008508   \n",
      "CFO                           -0.075326                  0.001832    0.000924   \n",
      "Interest Coverage              0.008147                  0.002233   -0.016078   \n",
      "Total Liquidity               -0.033862                 -0.001938   -0.000801   \n",
      "Current Liquidity             -0.000036                 -0.008131   -0.031600   \n",
      "Current Liabilities           -0.119068                  0.004226    0.062364   \n",
      "EPS Before Extras              0.021589                  0.506547   -0.001424   \n",
      "PE                             0.071426                 -0.003166   -0.003652   \n",
      "ROA                            0.002072                  0.997349   -0.001406   \n",
      "ROE                           -0.008328                  0.782491    0.000301   \n",
      "\n",
      "                          Net Debt   LT Debt   ST Debt      Cash  ...  \\\n",
      "Sales/Revenues            0.175741  0.048960  0.014987 -0.008088  ...   \n",
      "Gross Margin              0.004266 -0.003149 -0.005417 -0.024540  ...   \n",
      "EBITDA                    0.119251 -0.000665  0.004844 -0.030773  ...   \n",
      "EBITDA Margin             0.000336 -0.037009 -0.006310 -0.023997  ...   \n",
      "Net Income Before Extras  0.000867 -0.001162 -0.000221 -0.006703  ...   \n",
      "Total Debt               -0.022209  0.833567  0.118240 -0.030002  ...   \n",
      "Net Debt                  1.000000 -0.021307  0.001191  0.007184  ...   \n",
      "LT Debt                  -0.021307  1.000000  0.092393 -0.030084  ...   \n",
      "ST Debt                   0.001191  0.092393  1.000000 -0.012802  ...   \n",
      "Cash                      0.007184 -0.030084 -0.012802  1.000000  ...   \n",
      "Free Cash Flow           -0.013257  0.002399  0.004448  0.002603  ...   \n",
      "Total Debt/EBITDA        -0.031475  0.833357  0.120847 -0.029271  ...   \n",
      "Net Debt/EBITDA           0.907461 -0.032828  0.000078  0.016337  ...   \n",
      "Total MV                  0.000173 -0.042830 -0.007019  0.115015  ...   \n",
      "Total Debt/MV            -0.019287  0.805303  0.089413 -0.028543  ...   \n",
      "Net Debt/MV               0.978717 -0.019685 -0.004311  0.007232  ...   \n",
      "CFO/Debt                  0.001579 -0.006241 -0.002695  0.020886  ...   \n",
      "CFO                       0.002762  0.001270  0.002729  0.019751  ...   \n",
      "Interest Coverage        -0.003566 -0.014810 -0.007233 -0.023920  ...   \n",
      "Total Liquidity           0.000492 -0.000532  0.000503  0.023993  ...   \n",
      "Current Liquidity        -0.003824 -0.026573 -0.023235  0.973123  ...   \n",
      "Current Liabilities       0.059139  0.023553  0.105872  0.004712  ...   \n",
      "EPS Before Extras         0.001046 -0.001298  0.000275 -0.017470  ...   \n",
      "PE                       -0.000371 -0.003545 -0.002704  0.034156  ...   \n",
      "ROA                      -0.000709 -0.001303 -0.000339 -0.006606  ...   \n",
      "ROE                      -0.001965  0.000712 -0.001022 -0.000344  ...   \n",
      "\n",
      "                          CFO/Debt       CFO  Interest Coverage  \\\n",
      "Sales/Revenues            0.016833  0.034069           0.032716   \n",
      "Gross Margin             -0.055521 -0.055569          -0.002079   \n",
      "EBITDA                   -0.054541 -0.041064           0.028118   \n",
      "EBITDA Margin            -0.076554 -0.075326           0.008147   \n",
      "Net Income Before Extras  0.002084  0.001832           0.002233   \n",
      "Total Debt               -0.008508  0.000924          -0.016078   \n",
      "Net Debt                  0.001579  0.002762          -0.003566   \n",
      "LT Debt                  -0.006241  0.001270          -0.014810   \n",
      "ST Debt                  -0.002695  0.002729          -0.007233   \n",
      "Cash                      0.020886  0.019751          -0.023920   \n",
      "Free Cash Flow            0.013493  0.016163          -0.077278   \n",
      "Total Debt/EBITDA        -0.008461  0.000719          -0.016447   \n",
      "Net Debt/EBITDA           0.003601  0.001430          -0.002744   \n",
      "Total MV                  0.011430  0.009809          -0.031972   \n",
      "Total Debt/MV            -0.007571  0.000511          -0.013993   \n",
      "Net Debt/MV               0.000423  0.002376          -0.002807   \n",
      "CFO/Debt                  1.000000  0.990774           0.039863   \n",
      "CFO                       0.990774  1.000000           0.000870   \n",
      "Interest Coverage         0.039863  0.000870           1.000000   \n",
      "Total Liquidity           0.002658  0.001478           0.000339   \n",
      "Current Liquidity         0.016303  0.012089          -0.024121   \n",
      "Current Liabilities       0.032522  0.053633           0.008097   \n",
      "EPS Before Extras         0.009604  0.009574           0.004449   \n",
      "PE                        0.010269  0.009654          -0.001023   \n",
      "ROA                       0.002736  0.002478           0.001785   \n",
      "ROE                       0.000598 -0.000034           0.002103   \n",
      "\n",
      "                          Total Liquidity  Current Liquidity  \\\n",
      "Sales/Revenues                   0.035747          -0.081346   \n",
      "Gross Margin                    -0.011190          -0.022793   \n",
      "EBITDA                          -0.008799          -0.054680   \n",
      "EBITDA Margin                   -0.033862          -0.000036   \n",
      "Net Income Before Extras        -0.001938          -0.008131   \n",
      "Total Debt                      -0.000801          -0.031600   \n",
      "Net Debt                         0.000492          -0.003824   \n",
      "LT Debt                         -0.000532          -0.026573   \n",
      "ST Debt                          0.000503          -0.023235   \n",
      "Cash                             0.023993           0.973123   \n",
      "Free Cash Flow                   0.004097          -0.006539   \n",
      "Total Debt/EBITDA               -0.000171          -0.029813   \n",
      "Net Debt/EBITDA                  0.000627           0.003207   \n",
      "Total MV                         0.011034           0.078930   \n",
      "Total Debt/MV                   -0.000285          -0.029198   \n",
      "Net Debt/MV                      0.000557          -0.000427   \n",
      "CFO/Debt                         0.002658           0.016303   \n",
      "CFO                              0.001478           0.012089   \n",
      "Interest Coverage                0.000339          -0.024121   \n",
      "Total Liquidity                  1.000000           0.013024   \n",
      "Current Liquidity                0.013024           1.000000   \n",
      "Current Liabilities              0.039688          -0.145766   \n",
      "EPS Before Extras               -0.004889          -0.020050   \n",
      "PE                               0.004739           0.045229   \n",
      "ROA                             -0.002458          -0.007790   \n",
      "ROE                             -0.003223          -0.000544   \n",
      "\n",
      "                          Current Liabilities  EPS Before Extras        PE  \\\n",
      "Sales/Revenues                       0.553807           0.034722 -0.014842   \n",
      "Gross Margin                         0.051386           0.000857  0.029146   \n",
      "EBITDA                               0.207526           0.042191  0.040732   \n",
      "EBITDA Margin                       -0.119068           0.021589  0.071426   \n",
      "Net Income Before Extras             0.004226           0.506547 -0.003166   \n",
      "Total Debt                           0.062364          -0.001424 -0.003652   \n",
      "Net Debt                             0.059139           0.001046 -0.000371   \n",
      "LT Debt                              0.023553          -0.001298 -0.003545   \n",
      "ST Debt                              0.105872           0.000275 -0.002704   \n",
      "Cash                                 0.004712          -0.017470  0.034156   \n",
      "Free Cash Flow                       0.044681           0.027709  0.011691   \n",
      "Total Debt/EBITDA                    0.054800          -0.002501 -0.004169   \n",
      "Net Debt/EBITDA                      0.019834          -0.000401  0.000582   \n",
      "Total MV                             0.133008           0.030909  0.122039   \n",
      "Total Debt/MV                        0.047056          -0.002455 -0.004437   \n",
      "Net Debt/MV                          0.048441           0.000576 -0.000700   \n",
      "CFO/Debt                             0.032522           0.009604  0.010269   \n",
      "CFO                                  0.053633           0.009574  0.009654   \n",
      "Interest Coverage                    0.008097           0.004449 -0.001023   \n",
      "Total Liquidity                      0.039688          -0.004889  0.004739   \n",
      "Current Liquidity                   -0.145766          -0.020050  0.045229   \n",
      "Current Liabilities                  1.000000           0.013620 -0.026659   \n",
      "EPS Before Extras                    0.013620           1.000000 -0.006064   \n",
      "PE                                  -0.026659          -0.006064  1.000000   \n",
      "ROA                                  0.003664           0.506586 -0.002540   \n",
      "ROE                                 -0.006576           0.486489 -0.000655   \n",
      "\n",
      "                               ROA       ROE  \n",
      "Sales/Revenues            0.007251 -0.000206  \n",
      "Gross Margin             -0.001583  0.000182  \n",
      "EBITDA                    0.007913 -0.005701  \n",
      "EBITDA Margin             0.002072 -0.008328  \n",
      "Net Income Before Extras  0.997349  0.782491  \n",
      "Total Debt               -0.001406  0.000301  \n",
      "Net Debt                 -0.000709 -0.001965  \n",
      "LT Debt                  -0.001303  0.000712  \n",
      "ST Debt                  -0.000339 -0.001022  \n",
      "Cash                     -0.006606 -0.000344  \n",
      "Free Cash Flow            0.024294  0.017953  \n",
      "Total Debt/EBITDA        -0.001724  0.000288  \n",
      "Net Debt/EBITDA          -0.000562 -0.002714  \n",
      "Total MV                 -0.007139  0.002519  \n",
      "Total Debt/MV            -0.001525 -0.000178  \n",
      "Net Debt/MV              -0.000764 -0.001434  \n",
      "CFO/Debt                  0.002736  0.000598  \n",
      "CFO                       0.002478 -0.000034  \n",
      "Interest Coverage         0.001785  0.002103  \n",
      "Total Liquidity          -0.002458 -0.003223  \n",
      "Current Liquidity        -0.007790 -0.000544  \n",
      "Current Liabilities       0.003664 -0.006576  \n",
      "EPS Before Extras         0.506586  0.486489  \n",
      "PE                       -0.002540 -0.000655  \n",
      "ROA                       1.000000  0.788035  \n",
      "ROE                       0.788035  1.000000  \n",
      "\n",
      "[26 rows x 26 columns]\n"
     ]
    },
    {
     "data": {
      "image/png": "[encoded data removed]",
      "text/plain": [
       "<Figure size 432x288 with 2 Axes>"
      ]
     },
     "metadata": {
      "needs_background": "light"
     },
     "output_type": "display_data"
    }
   ],
   "source": [
    "#Correlations between numerical attributes\n",
    "corr = df.drop(['InvGrd','Rating'],axis = 1).corr()\n",
    "print(corr)\n",
    "\n",
    "hm = sns.heatmap(corr,cbar=True,annot=False)\n",
    "hm.set_title('Correlations between numerical attributes')\n",
    "plt.show()"
   ]
  },
  {
   "cell_type": "code",
   "execution_count": 5,
   "metadata": {},
   "outputs": [
    {
     "data": {
      "image/png": "[encoded data removed]",
      "text/plain": [
       "<Figure size 432x288 with 2 Axes>"
      ]
     },
     "metadata": {
      "needs_background": "light"
     },
     "output_type": "display_data"
    }
   ],
   "source": [
    "hm = sns.heatmap(corr,cbar=True,annot=False)\n",
    "hm.set_title('Correlations between numerical attributes')\n",
    "plt.show()"
   ]
  },
  {
   "cell_type": "markdown",
   "metadata": {},
   "source": [
    "High correlations betweern certain attributes of the dataset"
   ]
  },
  {
   "cell_type": "code",
   "execution_count": 6,
   "metadata": {},
   "outputs": [
    {
     "data": {
      "image/png": "[encoded data removed]",
      "text/plain": [
       "<Figure size 1080x1080 with 42 Axes>"
      ]
     },
     "metadata": {
      "needs_background": "light"
     },
     "output_type": "display_data"
    }
   ],
   "source": [
    "#Plot several attributes with high correlations\n",
    "cols = ['EBITDA', 'EBITDA Margin', 'LT Debt', 'Total Debt', 'Net Income Before Extras', 'ROE']\n",
    "\n",
    "sns.pairplot(df[cols], height=2.5)\n",
    "plt.tight_layout()\n",
    "plt.show()"
   ]
  },
  {
   "cell_type": "markdown",
   "metadata": {},
   "source": [
    "Classification on investment grades(binary classification problem)"
   ]
  },
  {
   "cell_type": "code",
   "execution_count": 8,
   "metadata": {},
   "outputs": [],
   "source": [
    "#Features, Targets sepearte. Train test split(10% holdout)\n",
    "X = df.iloc[:, 0:26].values\n",
    "y = df.iloc[:,26].values\n",
    "X_train, X_test, y_train, y_test = train_test_split(X, y, train_size = 0.9, random_state = 12)"
   ]
  },
  {
   "cell_type": "code",
   "execution_count": 9,
   "metadata": {},
   "outputs": [],
   "source": [
    "#features selection\n",
    "from sklearn.decomposition import PCA\n",
    "from sklearn.preprocessing import StandardScaler"
   ]
  },
  {
   "cell_type": "code",
   "execution_count": 10,
   "metadata": {},
   "outputs": [],
   "source": [
    "#Standarize\n",
    "scaler = StandardScaler().fit(X_train)\n",
    "X_train = scaler.transform(X_train)\n",
    "X_test = scaler.transform(X_test)"
   ]
  },
  {
   "cell_type": "code",
   "execution_count": 11,
   "metadata": {},
   "outputs": [
    {
     "data": {
      "image/png": "[encoded data removed]",
      "text/plain": [
       "<Figure size 432x288 with 1 Axes>"
      ]
     },
     "metadata": {
      "needs_background": "light"
     },
     "output_type": "display_data"
    },
    {
     "name": "stdout",
     "output_type": "stream",
     "text": [
      "[3.75600984e+00 3.08308708e+00 2.96379678e+00 2.15505421e+00\n",
      " 1.99677371e+00 1.96337840e+00 1.46917974e+00 1.09417397e+00\n",
      " 1.01674342e+00 9.94532202e-01 9.84652688e-01 9.69459926e-01\n",
      " 9.15985695e-01 7.86770125e-01 6.37731087e-01 4.65343713e-01\n",
      " 2.79172882e-01 2.45891155e-01 1.32001047e-01 4.75596557e-02\n",
      " 2.48139026e-02 1.42918894e-02 1.04733760e-02 7.20055200e-03\n",
      " 2.55826428e-03 3.69272142e-04]\n",
      "26.01700457815566\n",
      "0.9999999999999999\n"
     ]
    }
   ],
   "source": [
    "#PCA\n",
    "pca = PCA(n_components=None)\n",
    "X_train_pca = pca.fit_transform(X_train)\n",
    "X_test_pca = pca.transform(X_test)\n",
    "\n",
    "features = range(pca.n_components_)\n",
    "plt.bar(features, pca.explained_variance_)\n",
    "plt.xlabel('PCA feature')\n",
    "plt.ylabel('variance')\n",
    "plt.xticks(features)\n",
    "plt.show()\n",
    "print(pca.explained_variance_)\n",
    "print(sum(pca.explained_variance_))\n",
    "print(sum(pca.explained_variance_ratio_))"
   ]
  },
  {
   "cell_type": "markdown",
   "metadata": {},
   "source": [
    "Approximately 18 features with high importance"
   ]
  },
  {
   "cell_type": "code",
   "execution_count": 12,
   "metadata": {},
   "outputs": [
    {
     "data": {
      "image/png": "[encoded data removed]",
      "text/plain": [
       "<Figure size 432x288 with 1 Axes>"
      ]
     },
     "metadata": {
      "needs_background": "light"
     },
     "output_type": "display_data"
    },
    {
     "name": "stdout",
     "output_type": "stream",
     "text": [
      "[3.75600984 3.08308708 2.96379678 2.15505421 1.99677371 1.9633784\n",
      " 1.46917974 1.09417397 1.01674342 0.9945322  0.98465269 0.96945993\n",
      " 0.9159857  0.78677012 0.63773109 0.46534371 0.27917288 0.24589116]\n",
      "25.777736619354574\n",
      "0.99080340098022\n"
     ]
    }
   ],
   "source": [
    "pca = PCA(n_components=18)\n",
    "X_train_pca18 = pca.fit_transform(X_train)\n",
    "X_test_pca18 = pca.transform(X_test)\n",
    "\n",
    "features = range(pca.n_components_)\n",
    "plt.bar(features, pca.explained_variance_)\n",
    "plt.xlabel('PCA feature')\n",
    "plt.ylabel('variance')\n",
    "plt.xticks(features)\n",
    "plt.show()\n",
    "print(pca.explained_variance_)\n",
    "print(sum(pca.explained_variance_))\n",
    "print(sum(pca.explained_variance_ratio_))"
   ]
  },
  {
   "cell_type": "markdown",
   "metadata": {},
   "source": [
    "Fit classification models, using cross_validation for evaluation and grid search for Hyperparameter tuning"
   ]
  },
  {
   "cell_type": "code",
   "execution_count": 13,
   "metadata": {},
   "outputs": [],
   "source": [
    "from sklearn.model_selection import GridSearchCV"
   ]
  },
  {
   "cell_type": "code",
   "execution_count": 14,
   "metadata": {},
   "outputs": [
    {
     "name": "stdout",
     "output_type": "stream",
     "text": [
      "{'criterion': 'gini', 'max_depth': 8}\n",
      "0.8\n"
     ]
    }
   ],
   "source": [
    "#1.Decision Tree\n",
    "from sklearn.tree import DecisionTreeClassifier\n",
    "\n",
    "dt = DecisionTreeClassifier(random_state = 43)\n",
    "\n",
    "para_tree = {'criterion':('gini','entropy'),'max_depth':[25, 18, 15, 10, 9, 8, 7]}\n",
    "clf = GridSearchCV(dt, para_tree, scoring = 'accuracy', cv = 10)\n",
    "clf.fit(X_train, y_train)\n",
    "\n",
    "print(clf.best_params_)\n",
    "print(clf.best_score_)"
   ]
  },
  {
   "cell_type": "code",
   "execution_count": 18,
   "metadata": {},
   "outputs": [
    {
     "name": "stdout",
     "output_type": "stream",
     "text": [
      "0.8\n",
      "[[ 23  17]\n",
      " [ 17 113]]\n"
     ]
    }
   ],
   "source": [
    "#Use the best parameters\n",
    "dt = DecisionTreeClassifier(criterion = 'gini', max_depth = 8, random_state=43)\n",
    "dt.fit(X_train, y_train)\n",
    "\n",
    "from sklearn.metrics import accuracy_score\n",
    "from sklearn.metrics import confusion_matrix\n",
    "y_pred_dt = dt.predict(X_test)\n",
    "print(accuracy_score(y_test, y_pred_dt))\n",
    "print(confusion_matrix(y_test, y_pred_dt))"
   ]
  },
  {
   "cell_type": "markdown",
   "metadata": {},
   "source": [
    "Decision tree yields a highest accuracy on test sets of 0.8 when its max_depth = 8"
   ]
  },
  {
   "cell_type": "code",
   "execution_count": 22,
   "metadata": {},
   "outputs": [
    {
     "name": "stdout",
     "output_type": "stream",
     "text": [
      "[0.74025974 0.78571429 0.75974026 0.78431373 0.74509804 0.75163399\n",
      " 0.76470588 0.76315789 0.78947368 0.76315789]\n"
     ]
    },
    {
     "name": "stderr",
     "output_type": "stream",
     "text": [
      "C:\\Users\\lyhe\\Anaconda3\\lib\\site-packages\\sklearn\\linear_model\\logistic.py:432: FutureWarning: Default solver will be changed to 'lbfgs' in 0.22. Specify a solver to silence this warning.\n",
      "  FutureWarning)\n",
      "C:\\Users\\lyhe\\Anaconda3\\lib\\site-packages\\sklearn\\linear_model\\logistic.py:432: FutureWarning: Default solver will be changed to 'lbfgs' in 0.22. Specify a solver to silence this warning.\n",
      "  FutureWarning)\n",
      "C:\\Users\\lyhe\\Anaconda3\\lib\\site-packages\\sklearn\\linear_model\\logistic.py:432: FutureWarning: Default solver will be changed to 'lbfgs' in 0.22. Specify a solver to silence this warning.\n",
      "  FutureWarning)\n",
      "C:\\Users\\lyhe\\Anaconda3\\lib\\site-packages\\sklearn\\linear_model\\logistic.py:432: FutureWarning: Default solver will be changed to 'lbfgs' in 0.22. Specify a solver to silence this warning.\n",
      "  FutureWarning)\n",
      "C:\\Users\\lyhe\\Anaconda3\\lib\\site-packages\\sklearn\\linear_model\\logistic.py:432: FutureWarning: Default solver will be changed to 'lbfgs' in 0.22. Specify a solver to silence this warning.\n",
      "  FutureWarning)\n",
      "C:\\Users\\lyhe\\Anaconda3\\lib\\site-packages\\sklearn\\linear_model\\logistic.py:432: FutureWarning: Default solver will be changed to 'lbfgs' in 0.22. Specify a solver to silence this warning.\n",
      "  FutureWarning)\n",
      "C:\\Users\\lyhe\\Anaconda3\\lib\\site-packages\\sklearn\\linear_model\\logistic.py:432: FutureWarning: Default solver will be changed to 'lbfgs' in 0.22. Specify a solver to silence this warning.\n",
      "  FutureWarning)\n",
      "C:\\Users\\lyhe\\Anaconda3\\lib\\site-packages\\sklearn\\linear_model\\logistic.py:432: FutureWarning: Default solver will be changed to 'lbfgs' in 0.22. Specify a solver to silence this warning.\n",
      "  FutureWarning)\n",
      "C:\\Users\\lyhe\\Anaconda3\\lib\\site-packages\\sklearn\\linear_model\\logistic.py:432: FutureWarning: Default solver will be changed to 'lbfgs' in 0.22. Specify a solver to silence this warning.\n",
      "  FutureWarning)\n",
      "C:\\Users\\lyhe\\Anaconda3\\lib\\site-packages\\sklearn\\linear_model\\logistic.py:432: FutureWarning: Default solver will be changed to 'lbfgs' in 0.22. Specify a solver to silence this warning.\n",
      "  FutureWarning)\n"
     ]
    }
   ],
   "source": [
    "#2 Logistic Regression\n",
    "from sklearn.linear_model import LogisticRegression\n",
    "from sklearn.model_selection import cross_val_score\n",
    "lr = LogisticRegression()\n",
    "\n",
    "print(cross_val_score(lr, X_train, y_train, scoring = 'accuracy',cv=10))"
   ]
  },
  {
   "cell_type": "code",
   "execution_count": 23,
   "metadata": {},
   "outputs": [
    {
     "name": "stdout",
     "output_type": "stream",
     "text": [
      "0.7470588235294118\n",
      "[[  0  40]\n",
      " [  3 127]]\n"
     ]
    },
    {
     "name": "stderr",
     "output_type": "stream",
     "text": [
      "C:\\Users\\lyhe\\Anaconda3\\lib\\site-packages\\sklearn\\linear_model\\logistic.py:432: FutureWarning: Default solver will be changed to 'lbfgs' in 0.22. Specify a solver to silence this warning.\n",
      "  FutureWarning)\n"
     ]
    }
   ],
   "source": [
    "lr.fit(X_train, y_train)\n",
    "y_pred_lr = lr.predict(X_test)\n",
    "print(accuracy_score(y_test,y_pred_lr))\n",
    "print(confusion_matrix(y_test,y_pred_lr))"
   ]
  },
  {
   "cell_type": "code",
   "execution_count": 24,
   "metadata": {},
   "outputs": [
    {
     "name": "stdout",
     "output_type": "stream",
     "text": [
      "0.7470588235294118\n",
      "[[  0  40]\n",
      " [  3 127]]\n"
     ]
    },
    {
     "name": "stderr",
     "output_type": "stream",
     "text": [
      "C:\\Users\\lyhe\\Anaconda3\\lib\\site-packages\\sklearn\\linear_model\\logistic.py:432: FutureWarning: Default solver will be changed to 'lbfgs' in 0.22. Specify a solver to silence this warning.\n",
      "  FutureWarning)\n"
     ]
    }
   ],
   "source": [
    "#On PCA transformed features\n",
    "lr.fit(X_train_pca18, y_train)\n",
    "y_pred_lr = lr.predict(X_test_pca18)\n",
    "print(accuracy_score(y_test,y_pred_lr))\n",
    "print(confusion_matrix(y_test,y_pred_lr))"
   ]
  },
  {
   "cell_type": "code",
   "execution_count": 25,
   "metadata": {},
   "outputs": [
    {
     "name": "stdout",
     "output_type": "stream",
     "text": [
      "[0.74025974 0.78571429 0.75974026 0.78431373 0.74509804 0.75163399\n",
      " 0.76470588 0.76315789 0.78947368 0.76315789]\n"
     ]
    },
    {
     "name": "stderr",
     "output_type": "stream",
     "text": [
      "C:\\Users\\lyhe\\Anaconda3\\lib\\site-packages\\sklearn\\linear_model\\logistic.py:432: FutureWarning: Default solver will be changed to 'lbfgs' in 0.22. Specify a solver to silence this warning.\n",
      "  FutureWarning)\n",
      "C:\\Users\\lyhe\\Anaconda3\\lib\\site-packages\\sklearn\\linear_model\\logistic.py:432: FutureWarning: Default solver will be changed to 'lbfgs' in 0.22. Specify a solver to silence this warning.\n",
      "  FutureWarning)\n",
      "C:\\Users\\lyhe\\Anaconda3\\lib\\site-packages\\sklearn\\linear_model\\logistic.py:432: FutureWarning: Default solver will be changed to 'lbfgs' in 0.22. Specify a solver to silence this warning.\n",
      "  FutureWarning)\n",
      "C:\\Users\\lyhe\\Anaconda3\\lib\\site-packages\\sklearn\\linear_model\\logistic.py:432: FutureWarning: Default solver will be changed to 'lbfgs' in 0.22. Specify a solver to silence this warning.\n",
      "  FutureWarning)\n",
      "C:\\Users\\lyhe\\Anaconda3\\lib\\site-packages\\sklearn\\linear_model\\logistic.py:432: FutureWarning: Default solver will be changed to 'lbfgs' in 0.22. Specify a solver to silence this warning.\n",
      "  FutureWarning)\n",
      "C:\\Users\\lyhe\\Anaconda3\\lib\\site-packages\\sklearn\\linear_model\\logistic.py:432: FutureWarning: Default solver will be changed to 'lbfgs' in 0.22. Specify a solver to silence this warning.\n",
      "  FutureWarning)\n",
      "C:\\Users\\lyhe\\Anaconda3\\lib\\site-packages\\sklearn\\linear_model\\logistic.py:432: FutureWarning: Default solver will be changed to 'lbfgs' in 0.22. Specify a solver to silence this warning.\n",
      "  FutureWarning)\n",
      "C:\\Users\\lyhe\\Anaconda3\\lib\\site-packages\\sklearn\\linear_model\\logistic.py:432: FutureWarning: Default solver will be changed to 'lbfgs' in 0.22. Specify a solver to silence this warning.\n",
      "  FutureWarning)\n",
      "C:\\Users\\lyhe\\Anaconda3\\lib\\site-packages\\sklearn\\linear_model\\logistic.py:432: FutureWarning: Default solver will be changed to 'lbfgs' in 0.22. Specify a solver to silence this warning.\n",
      "  FutureWarning)\n",
      "C:\\Users\\lyhe\\Anaconda3\\lib\\site-packages\\sklearn\\linear_model\\logistic.py:432: FutureWarning: Default solver will be changed to 'lbfgs' in 0.22. Specify a solver to silence this warning.\n",
      "  FutureWarning)\n"
     ]
    }
   ],
   "source": [
    "#3.SVM\n",
    "from sklearn.svm import LinearSVC\n",
    "svc = LinearSVC()\n",
    "print(cross_val_score(lr, X_train, y_train, scoring = 'accuracy',cv=10))"
   ]
  },
  {
   "cell_type": "code",
   "execution_count": 26,
   "metadata": {},
   "outputs": [
    {
     "name": "stdout",
     "output_type": "stream",
     "text": [
      "[0.74025974 0.78571429 0.75974026 0.78431373 0.74509804 0.76470588\n",
      " 0.77124183 0.76315789 0.78947368 0.76315789]\n"
     ]
    },
    {
     "name": "stderr",
     "output_type": "stream",
     "text": [
      "C:\\Users\\lyhe\\Anaconda3\\lib\\site-packages\\sklearn\\linear_model\\logistic.py:432: FutureWarning: Default solver will be changed to 'lbfgs' in 0.22. Specify a solver to silence this warning.\n",
      "  FutureWarning)\n",
      "C:\\Users\\lyhe\\Anaconda3\\lib\\site-packages\\sklearn\\linear_model\\logistic.py:432: FutureWarning: Default solver will be changed to 'lbfgs' in 0.22. Specify a solver to silence this warning.\n",
      "  FutureWarning)\n",
      "C:\\Users\\lyhe\\Anaconda3\\lib\\site-packages\\sklearn\\linear_model\\logistic.py:432: FutureWarning: Default solver will be changed to 'lbfgs' in 0.22. Specify a solver to silence this warning.\n",
      "  FutureWarning)\n",
      "C:\\Users\\lyhe\\Anaconda3\\lib\\site-packages\\sklearn\\linear_model\\logistic.py:432: FutureWarning: Default solver will be changed to 'lbfgs' in 0.22. Specify a solver to silence this warning.\n",
      "  FutureWarning)\n",
      "C:\\Users\\lyhe\\Anaconda3\\lib\\site-packages\\sklearn\\linear_model\\logistic.py:432: FutureWarning: Default solver will be changed to 'lbfgs' in 0.22. Specify a solver to silence this warning.\n",
      "  FutureWarning)\n",
      "C:\\Users\\lyhe\\Anaconda3\\lib\\site-packages\\sklearn\\linear_model\\logistic.py:432: FutureWarning: Default solver will be changed to 'lbfgs' in 0.22. Specify a solver to silence this warning.\n",
      "  FutureWarning)\n",
      "C:\\Users\\lyhe\\Anaconda3\\lib\\site-packages\\sklearn\\linear_model\\logistic.py:432: FutureWarning: Default solver will be changed to 'lbfgs' in 0.22. Specify a solver to silence this warning.\n",
      "  FutureWarning)\n",
      "C:\\Users\\lyhe\\Anaconda3\\lib\\site-packages\\sklearn\\linear_model\\logistic.py:432: FutureWarning: Default solver will be changed to 'lbfgs' in 0.22. Specify a solver to silence this warning.\n",
      "  FutureWarning)\n",
      "C:\\Users\\lyhe\\Anaconda3\\lib\\site-packages\\sklearn\\linear_model\\logistic.py:432: FutureWarning: Default solver will be changed to 'lbfgs' in 0.22. Specify a solver to silence this warning.\n",
      "  FutureWarning)\n",
      "C:\\Users\\lyhe\\Anaconda3\\lib\\site-packages\\sklearn\\linear_model\\logistic.py:432: FutureWarning: Default solver will be changed to 'lbfgs' in 0.22. Specify a solver to silence this warning.\n",
      "  FutureWarning)\n"
     ]
    }
   ],
   "source": [
    "print(cross_val_score(lr, X_train_pca18, y_train, scoring = 'accuracy',cv=10))"
   ]
  },
  {
   "cell_type": "code",
   "execution_count": 28,
   "metadata": {},
   "outputs": [
    {
     "name": "stdout",
     "output_type": "stream",
     "text": [
      "0.7470588235294118\n",
      "[[  1  39]\n",
      " [  4 126]]\n"
     ]
    },
    {
     "name": "stderr",
     "output_type": "stream",
     "text": [
      "C:\\Users\\lyhe\\Anaconda3\\lib\\site-packages\\sklearn\\svm\\base.py:929: ConvergenceWarning: Liblinear failed to converge, increase the number of iterations.\n",
      "  \"the number of iterations.\", ConvergenceWarning)\n"
     ]
    }
   ],
   "source": [
    "#On test set\n",
    "svc.fit(X_train, y_train)\n",
    "y_pred_svc = svc.predict(X_test)\n",
    "print(accuracy_score(y_test,y_pred_svc))\n",
    "print(confusion_matrix(y_test,y_pred_svc))"
   ]
  },
  {
   "cell_type": "code",
   "execution_count": 29,
   "metadata": {},
   "outputs": [
    {
     "name": "stdout",
     "output_type": "stream",
     "text": [
      "0.7529411764705882\n",
      "[[  0  40]\n",
      " [  2 128]]\n"
     ]
    },
    {
     "name": "stderr",
     "output_type": "stream",
     "text": [
      "C:\\Users\\lyhe\\Anaconda3\\lib\\site-packages\\sklearn\\svm\\base.py:929: ConvergenceWarning: Liblinear failed to converge, increase the number of iterations.\n",
      "  \"the number of iterations.\", ConvergenceWarning)\n"
     ]
    }
   ],
   "source": [
    "svc.fit(X_train_pca18, y_train)\n",
    "y_pred_svc = svc.predict(X_test_pca18)\n",
    "print(accuracy_score(y_test,y_pred_svc))\n",
    "print(confusion_matrix(y_test,y_pred_svc))"
   ]
  },
  {
   "cell_type": "markdown",
   "metadata": {},
   "source": [
    "PCA transformed data yields a higher accuracy"
   ]
  },
  {
   "cell_type": "markdown",
   "metadata": {},
   "source": [
    "Ensembling: Random forest and Adaboost"
   ]
  },
  {
   "cell_type": "code",
   "execution_count": 30,
   "metadata": {},
   "outputs": [
    {
     "name": "stdout",
     "output_type": "stream",
     "text": [
      "0.8653604823109469 0.041793527954562905\n",
      "0.8731823989563928 0.04386510216295114\n",
      "0.8797144376091746 0.04075287235938085\n",
      "0.8816923100978828 0.04807195134493343\n",
      "0.8816880659759917 0.03649566553612143\n",
      "0.8816881218197008 0.043452611986619726\n"
     ]
    }
   ],
   "source": [
    "#Random forest\n",
    "estimators = [20, 50, 100 ,200, 500, 1000]\n",
    "for i in estimators:\n",
    "    rfr = RandomForestClassifier(n_estimators = i, n_jobs=-1)\n",
    "    scores = cross_val_score(rfr, X_train, y_train, scoring = \"accuracy\", cv = 10)\n",
    "    print(scores.mean(), scores.std() * 1.96)"
   ]
  },
  {
   "cell_type": "code",
   "execution_count": 31,
   "metadata": {},
   "outputs": [
    {
     "name": "stdout",
     "output_type": "stream",
     "text": [
      "0.8823529411764706\n",
      "[[ 26  14]\n",
      " [  6 124]]\n"
     ]
    }
   ],
   "source": [
    "#Opitimized to 200 estimators\n",
    "rfr = RandomForestClassifier(n_estimators = 200, n_jobs=-1)\n",
    "rfr.fit(X_train, y_train)\n",
    "y_pred = rfr.predict(X_test)\n",
    "acc_test = accuracy_score(y_test, y_pred)\n",
    "\n",
    "print(acc_test)\n",
    "print(confusion_matrix(y_test, y_pred))"
   ]
  },
  {
   "cell_type": "code",
   "execution_count": 32,
   "metadata": {},
   "outputs": [],
   "source": [
    "from sklearn.ensemble import AdaBoostClassifier"
   ]
  },
  {
   "cell_type": "code",
   "execution_count": 33,
   "metadata": {},
   "outputs": [
    {
     "name": "stdout",
     "output_type": "stream",
     "text": [
      "{'n_estimators': 500}\n",
      "0.8058823529411765\n",
      "[[ 17  23]\n",
      " [ 10 120]]\n"
     ]
    }
   ],
   "source": [
    "ada = AdaBoostClassifier()\n",
    "para_ada = {'n_estimators' : [20, 50, 100 ,200, 500, 1000]}\n",
    "clf_ada = GridSearchCV(ada, para_ada, scoring='accuracy', cv = 10)\n",
    "clf_ada.fit(X_train, y_train)\n",
    "\n",
    "print(clf_ada.best_params_)\n",
    "\n",
    "y_pred_ada = clf_ada.predict(X_test)\n",
    "print(accuracy_score(y_test, y_pred_ada))\n",
    "print(confusion_matrix(y_test, y_pred_ada))"
   ]
  },
  {
   "cell_type": "code",
   "execution_count": 34,
   "metadata": {},
   "outputs": [
    {
     "name": "stdout",
     "output_type": "stream",
     "text": [
      "{'n_estimators': 100}\n",
      "0.7470588235294118\n",
      "[[ 15  25]\n",
      " [ 18 112]]\n"
     ]
    }
   ],
   "source": [
    "#Fit on PCA\n",
    "clf_ada.fit(X_train_pca18, y_train)\n",
    "print(clf_ada.best_params_)\n",
    "y_pred_ada = clf_ada.predict(X_test_pca18)\n",
    "print(accuracy_score(y_test, y_pred_ada))\n",
    "print(confusion_matrix(y_test, y_pred_ada))"
   ]
  },
  {
   "cell_type": "markdown",
   "metadata": {},
   "source": [
    "Predict Moody's rating(Multi-Class Problem)"
   ]
  },
  {
   "cell_type": "code",
   "execution_count": 35,
   "metadata": {},
   "outputs": [],
   "source": [
    "#Get dummies\n",
    "df_rating = pd.get_dummies(df['Rating'], prefix = 'Rating', drop_first=True)\n",
    "Y = np.array(df_rating)\n",
    "\n",
    "X_train, X_test, y_train_rt, y_test_rt = train_test_split(X, Y, train_size = 0.9, random_state = 12)"
   ]
  },
  {
   "cell_type": "code",
   "execution_count": 36,
   "metadata": {},
   "outputs": [
    {
     "name": "stdout",
     "output_type": "stream",
     "text": [
      "{'criterion': 'gini', 'max_depth': 26}\n",
      "0.4326797385620915\n",
      "0.4235294117647059\n",
      "              precision    recall  f1-score   support\n",
      "\n",
      "           0       0.20      0.16      0.18        19\n",
      "           1       0.00      0.00      0.00         1\n",
      "           2       0.36      0.44      0.40         9\n",
      "           3       0.44      0.37      0.40        19\n",
      "           4       0.00      0.00      0.00         0\n",
      "           5       0.33      0.29      0.31         7\n",
      "           6       0.25      0.33      0.29         3\n",
      "           7       0.00      0.00      0.00         3\n",
      "           8       0.00      0.00      0.00         0\n",
      "           9       0.64      0.39      0.48        18\n",
      "          10       0.50      0.44      0.47         9\n",
      "          11       0.35      0.30      0.32        20\n",
      "          12       0.44      0.70      0.54        23\n",
      "          13       0.71      0.52      0.60        29\n",
      "          14       0.00      0.00      0.00         0\n",
      "\n",
      "   micro avg       0.43      0.41      0.42       160\n",
      "   macro avg       0.28      0.26      0.27       160\n",
      "weighted avg       0.45      0.41      0.42       160\n",
      " samples avg       0.38      0.38      0.38       160\n",
      "\n"
     ]
    },
    {
     "name": "stderr",
     "output_type": "stream",
     "text": [
      "C:\\Users\\lyhe\\Anaconda3\\lib\\site-packages\\sklearn\\metrics\\classification.py:1437: UndefinedMetricWarning: Precision and F-score are ill-defined and being set to 0.0 in labels with no predicted samples.\n",
      "  'precision', 'predicted', average, warn_for)\n",
      "C:\\Users\\lyhe\\Anaconda3\\lib\\site-packages\\sklearn\\metrics\\classification.py:1439: UndefinedMetricWarning: Recall and F-score are ill-defined and being set to 0.0 in labels with no true samples.\n",
      "  'recall', 'true', average, warn_for)\n",
      "C:\\Users\\lyhe\\Anaconda3\\lib\\site-packages\\sklearn\\metrics\\classification.py:1437: UndefinedMetricWarning: Precision and F-score are ill-defined and being set to 0.0 in samples with no predicted labels.\n",
      "  'precision', 'predicted', average, warn_for)\n",
      "C:\\Users\\lyhe\\Anaconda3\\lib\\site-packages\\sklearn\\metrics\\classification.py:1439: UndefinedMetricWarning: Recall and F-score are ill-defined and being set to 0.0 in samples with no true labels.\n",
      "  'recall', 'true', average, warn_for)\n"
     ]
    }
   ],
   "source": [
    "#1.Decision Tree\n",
    "dt = DecisionTreeClassifier(random_state=43)\n",
    "para_tree = {'criterion':('gini','entropy'),'max_depth':[26,18,15,10,9,8,7]}\n",
    "clf = GridSearchCV(dt, para_tree, scoring = 'accuracy', cv = 10)\n",
    "clf.fit(X_train, y_train_rt)\n",
    "\n",
    "print(clf.best_params_)\n",
    "print(clf.best_score_)\n",
    "\n",
    "from sklearn.metrics import classification_report\n",
    "\n",
    "#On test set\n",
    "y_pred_dt = clf.predict(X_test)\n",
    "print(accuracy_score(y_test_rt, y_pred_dt))\n",
    "print(classification_report(y_test_rt, y_pred_dt))"
   ]
  },
  {
   "cell_type": "code",
   "execution_count": 39,
   "metadata": {},
   "outputs": [
    {
     "name": "stdout",
     "output_type": "stream",
     "text": [
      "{'criterion': 'gini', 'max_depth': 26}\n",
      "0.4091503267973856\n",
      "0.4235294117647059\n",
      "              precision    recall  f1-score   support\n",
      "\n",
      "           0       0.20      0.16      0.18        19\n",
      "           1       0.00      0.00      0.00         1\n",
      "           2       0.36      0.44      0.40         9\n",
      "           3       0.44      0.37      0.40        19\n",
      "           4       0.00      0.00      0.00         0\n",
      "           5       0.33      0.29      0.31         7\n",
      "           6       0.25      0.33      0.29         3\n",
      "           7       0.00      0.00      0.00         3\n",
      "           8       0.00      0.00      0.00         0\n",
      "           9       0.64      0.39      0.48        18\n",
      "          10       0.50      0.44      0.47         9\n",
      "          11       0.35      0.30      0.32        20\n",
      "          12       0.44      0.70      0.54        23\n",
      "          13       0.71      0.52      0.60        29\n",
      "          14       0.00      0.00      0.00         0\n",
      "\n",
      "   micro avg       0.43      0.41      0.42       160\n",
      "   macro avg       0.28      0.26      0.27       160\n",
      "weighted avg       0.45      0.41      0.42       160\n",
      " samples avg       0.38      0.38      0.38       160\n",
      "\n"
     ]
    },
    {
     "name": "stderr",
     "output_type": "stream",
     "text": [
      "C:\\Users\\lyhe\\Anaconda3\\lib\\site-packages\\sklearn\\metrics\\classification.py:1437: UndefinedMetricWarning: Precision and F-score are ill-defined and being set to 0.0 in labels with no predicted samples.\n",
      "  'precision', 'predicted', average, warn_for)\n",
      "C:\\Users\\lyhe\\Anaconda3\\lib\\site-packages\\sklearn\\metrics\\classification.py:1439: UndefinedMetricWarning: Recall and F-score are ill-defined and being set to 0.0 in labels with no true samples.\n",
      "  'recall', 'true', average, warn_for)\n",
      "C:\\Users\\lyhe\\Anaconda3\\lib\\site-packages\\sklearn\\metrics\\classification.py:1437: UndefinedMetricWarning: Precision and F-score are ill-defined and being set to 0.0 in samples with no predicted labels.\n",
      "  'precision', 'predicted', average, warn_for)\n",
      "C:\\Users\\lyhe\\Anaconda3\\lib\\site-packages\\sklearn\\metrics\\classification.py:1439: UndefinedMetricWarning: Recall and F-score are ill-defined and being set to 0.0 in samples with no true labels.\n",
      "  'recall', 'true', average, warn_for)\n"
     ]
    }
   ],
   "source": [
    "#On PCA\n",
    "pca = PCA(n_components=18)\n",
    "X_train_pca18 = pca.fit_transform(X_train)\n",
    "X_test_pca18 = pca.transform(X_test)\n",
    "\n",
    "dt = DecisionTreeClassifier(random_state=43)\n",
    "para_tree = {'criterion':('gini','entropy'),'max_depth':[26,18,15,10,9,8,7]}\n",
    "clf = GridSearchCV(dt, para_tree, scoring = 'accuracy', cv = 10)\n",
    "clf.fit(X_train_pca18, y_train_rt)\n",
    "\n",
    "print(clf.best_params_)\n",
    "print(clf.best_score_)\n",
    "\n",
    "from sklearn.metrics import classification_report\n",
    "print(accuracy_score(y_test_rt, y_pred_dt))\n",
    "print(classification_report(y_test_rt, y_pred_dt))"
   ]
  },
  {
   "cell_type": "code",
   "execution_count": 40,
   "metadata": {},
   "outputs": [],
   "source": [
    "#2.Logistic Regression\n",
    "#Use origninal label as targets as LR can not handle multilabel matrix\n",
    "\n",
    "y_label = df.iloc[:,27]\n",
    "X_train, X_test, y_train_label, y_test_label = train_test_split(X, y_label, train_size = 0.9, random_state = 12)"
   ]
  },
  {
   "cell_type": "code",
   "execution_count": 41,
   "metadata": {},
   "outputs": [
    {
     "name": "stderr",
     "output_type": "stream",
     "text": [
      "C:\\Users\\lyhe\\Anaconda3\\lib\\site-packages\\sklearn\\model_selection\\_split.py:657: Warning: The least populated class in y has only 2 members, which is too few. The minimum number of members in any class cannot be less than n_splits=10.\n",
      "  % (min_groups, self.n_splits)), Warning)\n",
      "C:\\Users\\lyhe\\Anaconda3\\lib\\site-packages\\sklearn\\linear_model\\logistic.py:432: FutureWarning: Default solver will be changed to 'lbfgs' in 0.22. Specify a solver to silence this warning.\n",
      "  FutureWarning)\n",
      "C:\\Users\\lyhe\\Anaconda3\\lib\\site-packages\\sklearn\\linear_model\\logistic.py:432: FutureWarning: Default solver will be changed to 'lbfgs' in 0.22. Specify a solver to silence this warning.\n",
      "  FutureWarning)\n",
      "C:\\Users\\lyhe\\Anaconda3\\lib\\site-packages\\sklearn\\linear_model\\logistic.py:432: FutureWarning: Default solver will be changed to 'lbfgs' in 0.22. Specify a solver to silence this warning.\n",
      "  FutureWarning)\n",
      "C:\\Users\\lyhe\\Anaconda3\\lib\\site-packages\\sklearn\\linear_model\\logistic.py:432: FutureWarning: Default solver will be changed to 'lbfgs' in 0.22. Specify a solver to silence this warning.\n",
      "  FutureWarning)\n",
      "C:\\Users\\lyhe\\Anaconda3\\lib\\site-packages\\sklearn\\linear_model\\logistic.py:432: FutureWarning: Default solver will be changed to 'lbfgs' in 0.22. Specify a solver to silence this warning.\n",
      "  FutureWarning)\n",
      "C:\\Users\\lyhe\\Anaconda3\\lib\\site-packages\\sklearn\\linear_model\\logistic.py:432: FutureWarning: Default solver will be changed to 'lbfgs' in 0.22. Specify a solver to silence this warning.\n",
      "  FutureWarning)\n",
      "C:\\Users\\lyhe\\Anaconda3\\lib\\site-packages\\sklearn\\linear_model\\logistic.py:432: FutureWarning: Default solver will be changed to 'lbfgs' in 0.22. Specify a solver to silence this warning.\n",
      "  FutureWarning)\n",
      "C:\\Users\\lyhe\\Anaconda3\\lib\\site-packages\\sklearn\\linear_model\\logistic.py:432: FutureWarning: Default solver will be changed to 'lbfgs' in 0.22. Specify a solver to silence this warning.\n",
      "  FutureWarning)\n",
      "C:\\Users\\lyhe\\Anaconda3\\lib\\site-packages\\sklearn\\linear_model\\logistic.py:432: FutureWarning: Default solver will be changed to 'lbfgs' in 0.22. Specify a solver to silence this warning.\n",
      "  FutureWarning)\n",
      "C:\\Users\\lyhe\\Anaconda3\\lib\\site-packages\\sklearn\\linear_model\\logistic.py:432: FutureWarning: Default solver will be changed to 'lbfgs' in 0.22. Specify a solver to silence this warning.\n",
      "  FutureWarning)\n"
     ]
    },
    {
     "name": "stdout",
     "output_type": "stream",
     "text": [
      "[0.21875    0.2125     0.19745223 0.2        0.20779221 0.22368421\n",
      " 0.21854305 0.28378378 0.24324324 0.22758621]\n"
     ]
    }
   ],
   "source": [
    "lr = LogisticRegression(multi_class = 'auto')\n",
    "print(cross_val_score(lr, X_train, y_train_label, scoring = 'accuracy',cv=10))"
   ]
  },
  {
   "cell_type": "code",
   "execution_count": 42,
   "metadata": {},
   "outputs": [
    {
     "name": "stderr",
     "output_type": "stream",
     "text": [
      "C:\\Users\\lyhe\\Anaconda3\\lib\\site-packages\\sklearn\\linear_model\\logistic.py:432: FutureWarning: Default solver will be changed to 'lbfgs' in 0.22. Specify a solver to silence this warning.\n",
      "  FutureWarning)\n"
     ]
    },
    {
     "name": "stdout",
     "output_type": "stream",
     "text": [
      "0.17058823529411765\n",
      "              precision    recall  f1-score   support\n",
      "\n",
      "          A1       0.00      0.00      0.00        10\n",
      "          A2       0.40      0.11      0.17        19\n",
      "          A3       0.00      0.00      0.00         1\n",
      "         Aa2       0.00      0.00      0.00         9\n",
      "         Aa3       0.00      0.00      0.00        19\n",
      "          B1       0.00      0.00      0.00         7\n",
      "          B2       0.00      0.00      0.00         3\n",
      "          B3       0.00      0.00      0.00         3\n",
      "         Ba2       0.00      0.00      0.00        18\n",
      "         Ba3       0.00      0.00      0.00         9\n",
      "        Baa1       0.57      0.20      0.30        20\n",
      "        Baa2       0.14      0.87      0.25        23\n",
      "        Baa3       0.38      0.10      0.16        29\n",
      "\n",
      "    accuracy                           0.17       170\n",
      "   macro avg       0.11      0.10      0.07       170\n",
      "weighted avg       0.20      0.17      0.11       170\n",
      "\n"
     ]
    },
    {
     "name": "stderr",
     "output_type": "stream",
     "text": [
      "C:\\Users\\lyhe\\Anaconda3\\lib\\site-packages\\sklearn\\metrics\\classification.py:1437: UndefinedMetricWarning: Precision and F-score are ill-defined and being set to 0.0 in labels with no predicted samples.\n",
      "  'precision', 'predicted', average, warn_for)\n"
     ]
    }
   ],
   "source": [
    "lr.fit(X_train,y_train_label)\n",
    "y_pred_lr = lr.predict(X_test)\n",
    "print(accuracy_score(y_test_label, y_pred_lr))\n",
    "print(classification_report(y_test_label, y_pred_lr))"
   ]
  },
  {
   "cell_type": "code",
   "execution_count": 43,
   "metadata": {},
   "outputs": [],
   "source": [
    "#Random forest\n",
    "X_train, X_test, y_train_rt, y_test_rt = train_test_split(X, Y, train_size = 0.9, random_state = 12)"
   ]
  },
  {
   "cell_type": "code",
   "execution_count": 44,
   "metadata": {},
   "outputs": [
    {
     "name": "stdout",
     "output_type": "stream",
     "text": [
      "0.2666666666666667 0.07219462874527197\n",
      "0.2660130718954249 0.04289112591353606\n",
      "0.26993464052287586 0.06682345269871937\n",
      "0.273202614379085 0.053375198229750745\n",
      "0.2712418300653595 0.05933053831828092\n"
     ]
    }
   ],
   "source": [
    "estimators = [20, 50, 100 ,200, 500]\n",
    "for i in estimators:\n",
    "    rfr = RandomForestClassifier(n_estimators = i, n_jobs=-1)\n",
    "    scores = cross_val_score(rfr, X_train, y_train_rt, scoring = \"accuracy\", cv = 10)\n",
    "    print(scores.mean(), scores.std() * 1.96)"
   ]
  },
  {
   "cell_type": "code",
   "execution_count": 45,
   "metadata": {},
   "outputs": [
    {
     "name": "stdout",
     "output_type": "stream",
     "text": [
      "0.2529411764705882\n",
      "              precision    recall  f1-score   support\n",
      "\n",
      "           0       0.00      0.00      0.00        19\n",
      "           1       0.00      0.00      0.00         1\n",
      "           2       1.00      0.22      0.36         9\n",
      "           3       1.00      0.21      0.35        19\n",
      "           4       0.00      0.00      0.00         0\n",
      "           5       1.00      0.14      0.25         7\n",
      "           6       1.00      0.33      0.50         3\n",
      "           7       0.00      0.00      0.00         3\n",
      "           8       0.00      0.00      0.00         0\n",
      "           9       0.86      0.33      0.48        18\n",
      "          10       1.00      0.22      0.36         9\n",
      "          11       1.00      0.10      0.18        20\n",
      "          12       1.00      0.26      0.41        23\n",
      "          13       1.00      0.31      0.47        29\n",
      "          14       0.00      0.00      0.00         0\n",
      "\n",
      "   micro avg       0.97      0.21      0.34       160\n",
      "   macro avg       0.59      0.14      0.22       160\n",
      "weighted avg       0.84      0.21      0.32       160\n",
      " samples avg       0.19      0.19      0.19       160\n",
      "\n"
     ]
    },
    {
     "name": "stderr",
     "output_type": "stream",
     "text": [
      "C:\\Users\\lyhe\\Anaconda3\\lib\\site-packages\\sklearn\\metrics\\classification.py:1437: UndefinedMetricWarning: Precision and F-score are ill-defined and being set to 0.0 in labels with no predicted samples.\n",
      "  'precision', 'predicted', average, warn_for)\n",
      "C:\\Users\\lyhe\\Anaconda3\\lib\\site-packages\\sklearn\\metrics\\classification.py:1439: UndefinedMetricWarning: Recall and F-score are ill-defined and being set to 0.0 in labels with no true samples.\n",
      "  'recall', 'true', average, warn_for)\n",
      "C:\\Users\\lyhe\\Anaconda3\\lib\\site-packages\\sklearn\\metrics\\classification.py:1437: UndefinedMetricWarning: Precision and F-score are ill-defined and being set to 0.0 in samples with no predicted labels.\n",
      "  'precision', 'predicted', average, warn_for)\n",
      "C:\\Users\\lyhe\\Anaconda3\\lib\\site-packages\\sklearn\\metrics\\classification.py:1439: UndefinedMetricWarning: Recall and F-score are ill-defined and being set to 0.0 in samples with no true labels.\n",
      "  'recall', 'true', average, warn_for)\n"
     ]
    }
   ],
   "source": [
    "rfr = RandomForestClassifier(n_estimators = 200, n_jobs=-1)\n",
    "rfr.fit(X_train, y_train_rt)\n",
    "y_pred_rfr = rfr.predict(X_test)\n",
    "\n",
    "print(accuracy_score(y_test_rt, y_pred_rfr))\n",
    "print(classification_report(y_test_rt, y_pred_rfr))"
   ]
  },
  {
   "cell_type": "code",
   "execution_count": 46,
   "metadata": {},
   "outputs": [
    {
     "name": "stdout",
     "output_type": "stream",
     "text": [
      "0.21764705882352942\n",
      "              precision    recall  f1-score   support\n",
      "\n",
      "           0       0.00      0.00      0.00        19\n",
      "           1       0.00      0.00      0.00         1\n",
      "           2       1.00      0.44      0.62         9\n",
      "           3       1.00      0.16      0.27        19\n",
      "           4       0.00      0.00      0.00         0\n",
      "           5       1.00      0.14      0.25         7\n",
      "           6       1.00      0.33      0.50         3\n",
      "           7       0.00      0.00      0.00         3\n",
      "           8       0.00      0.00      0.00         0\n",
      "           9       1.00      0.11      0.20        18\n",
      "          10       1.00      0.11      0.20         9\n",
      "          11       1.00      0.10      0.18        20\n",
      "          12       0.88      0.30      0.45        23\n",
      "          13       1.00      0.24      0.39        29\n",
      "          14       0.00      0.00      0.00         0\n",
      "\n",
      "   micro avg       0.93      0.17      0.29       160\n",
      "   macro avg       0.59      0.13      0.20       160\n",
      "weighted avg       0.84      0.17      0.28       160\n",
      " samples avg       0.16      0.16      0.16       160\n",
      "\n"
     ]
    },
    {
     "name": "stderr",
     "output_type": "stream",
     "text": [
      "C:\\Users\\lyhe\\Anaconda3\\lib\\site-packages\\sklearn\\metrics\\classification.py:1437: UndefinedMetricWarning: Precision and F-score are ill-defined and being set to 0.0 in labels with no predicted samples.\n",
      "  'precision', 'predicted', average, warn_for)\n",
      "C:\\Users\\lyhe\\Anaconda3\\lib\\site-packages\\sklearn\\metrics\\classification.py:1439: UndefinedMetricWarning: Recall and F-score are ill-defined and being set to 0.0 in labels with no true samples.\n",
      "  'recall', 'true', average, warn_for)\n",
      "C:\\Users\\lyhe\\Anaconda3\\lib\\site-packages\\sklearn\\metrics\\classification.py:1437: UndefinedMetricWarning: Precision and F-score are ill-defined and being set to 0.0 in samples with no predicted labels.\n",
      "  'precision', 'predicted', average, warn_for)\n",
      "C:\\Users\\lyhe\\Anaconda3\\lib\\site-packages\\sklearn\\metrics\\classification.py:1439: UndefinedMetricWarning: Recall and F-score are ill-defined and being set to 0.0 in samples with no true labels.\n",
      "  'recall', 'true', average, warn_for)\n"
     ]
    }
   ],
   "source": [
    "#On PCA\n",
    "pca = PCA(n_components=18)\n",
    "X_train_pca18 = pca.fit_transform(X_train)\n",
    "X_test_pca18 = pca.transform(X_test)\n",
    "\n",
    "rfr = RandomForestClassifier(n_estimators = 200, n_jobs=-1)\n",
    "rfr.fit(X_train_pca18, y_train_rt)\n",
    "y_pred_rfr = rfr.predict(X_test_pca18)\n",
    "\n",
    "print(accuracy_score(y_test_rt, y_pred_rfr))\n",
    "print(classification_report(y_test_rt, y_pred_rfr))"
   ]
  },
  {
   "cell_type": "markdown",
   "metadata": {},
   "source": [
    "PCA gives a worse result.\n",
    "As a ensembled algo its performance is not as good as the base estimater, which is decision tree, on the same input. "
   ]
  },
  {
   "cell_type": "code",
   "execution_count": null,
   "metadata": {},
   "outputs": [],
   "source": []
  }
 ],
 "metadata": {
  "kernelspec": {
   "display_name": "Python 3",
   "language": "python",
   "name": "python3"
  },
  "language_info": {
   "codemirror_mode": {
    "name": "ipython",
    "version": 3
   },
   "file_extension": ".py",
   "mimetype": "text/x-python",
   "name": "python",
   "nbconvert_exporter": "python",
   "pygments_lexer": "ipython3",
   "version": "3.7.3"
  }
 },
 "nbformat": 4,
 "nbformat_minor": 2
}
